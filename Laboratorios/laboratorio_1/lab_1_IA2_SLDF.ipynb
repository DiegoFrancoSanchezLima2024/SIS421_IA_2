{
 "cells": [
  {
   "cell_type": "markdown",
   "metadata": {
    "id": "Ye1ZcaOdSd21"
   },
   "source": [
    "Cuadernillo: Prediciendo Ventas de Frutas con un MLP en PyTorch\n",
    "\n",
    "Introducción: El Desafío de María\n",
    "\n",
    "María es una vendedora de frutas en un mercado local. Cada día, decide cuántas manzanas llevar, pero a menudo termina con demasiadas (¡que se echan a perder!) o muy pocas (¡perdiendo clientes!). Ella nota que sus ventas dependen de factores como:\n",
    "\n",
    "\n",
    "\n",
    "\n",
    "\n",
    "Temperatura: Días cálidos venden más manzanas frescas.\n",
    "\n",
    "\n",
    "\n",
    "Día de la semana: Los fines de semana son más concurridos.\n",
    "\n",
    "\n",
    "\n",
    "Eventos de mercado: Ferias locales atraen más compradores.\n",
    "\n",
    "María quiere usar inteligencia artificial para predecir cuántas manzanas venderá cada día. Aquí es donde entra un Multi-Layer Perceptron (MLP), un modelo de aprendizaje profundo que puede aprender patrones complejos en los datos.# Ejercicio de programación Regresión Lineal"
   ]
  },
  {
   "cell_type": "markdown",
   "metadata": {},
   "source": [
    "¿Qué es un MLP y Cómo Ayuda?\n",
    "\n",
    "Un MLP es una red neuronal con capas de nodos que procesan información. Cada nodo en una capa toma entradas (como temperatura, día, eventos), las combina, aplica una función de activación (como ReLU), y pasa el resultado a la siguiente capa. La capa final predice un número: en este caso, las manzanas vendidas.\n",
    "\n",
    "Ejemplo Visual (Imagina esto):\n",
    "\n",
    "\n",
    "\n",
    "\n",
    "\n",
    "Una tabla con columnas: Temperatura (°C), Día (1=lunes, 7=domingo), Evento (0=no, 1=sí).\n",
    "\n",
    "\n",
    "\n",
    "Flechas que conectan estos datos a nodos en capas ocultas, como si fueran \"pensamientos\" de la red.\n",
    "\n",
    "\n",
    "\n",
    "Al final, un nodo dice: \"¡Venderás 50 manzanas hoy!\"\n"
   ]
  },
  {
   "cell_type": "markdown",
   "metadata": {},
   "source": [
    "Vamos a construir un MLP simple para predecir las ventas de María usando datos sintéticos. Usaremos PyTorch, una biblioteca poderosa para redes neuronales.\n",
    "\n",
    "Paso 1: Generar Datos Sintéticos\n",
    "\n",
    "Crearemos un conjunto de datos con 100 días de información:\n",
    "\n",
    "\n",
    "\n",
    "\n",
    "\n",
    "Temperatura: Entre 15°C y 35°C.\n",
    "\n",
    "\n",
    "\n",
    "Día de la semana: 1 a 7.\n",
    "\n",
    "\n",
    "\n",
    "Evento de mercado: 0 o 1.\n",
    "\n",
    "\n",
    "\n",
    "Ventas de manzanas: Calculadas con una fórmula simple más ruido.\n",
    "\n",
    "Paso 2: Definir el MLP\n",
    "\n",
    "Nuestro MLP tendrá:\n",
    "\n",
    "\n",
    "\n",
    "\n",
    "\n",
    "Entrada: 3 características (temperatura, día, evento).\n",
    "\n",
    "\n",
    "\n",
    "Capas ocultas: 2 capas con 16 y 8 nodos, usando ReLU.\n",
    "\n",
    "\n",
    "\n",
    "Salida: 1 nodo para predecir ventas.\n",
    "\n",
    "Paso 3: Entrenar y Probar\n",
    "\n",
    "Entrenaremos el modelo con los datos y veremos cómo predice.\n",
    "\n",
    "Aquí está el código:"
   ]
  },
  {
   "cell_type": "code",
   "execution_count": null,
   "metadata": {},
   "outputs": [],
   "source": [
    "import torch\n",
    "import torch.nn as nn\n",
    "import torch.optim as optim\n",
    "import numpy as np\n",
    "from sklearn.model_selection import train_test_split\n",
    "from sklearn.metrics import confusion_matrix\n",
    "import matplotlib.pyplot as plt\n",
    "import seaborn as sns"
   ]
  },
  {
   "cell_type": "code",
   "execution_count": null,
   "metadata": {},
   "outputs": [],
   "source": [
    "# Fijar semilla para reproducibilidad\n",
    "torch.manual_seed(42)\n",
    "np.random.seed(42)\n",
    "\n",
    "# Generar dataset sintético: Alien Fruit Classifier\n",
    "def generate_alien_fruit_data(n_samples=1000):\n",
    "    color_intensity = np.random.uniform(0, 1, n_samples)\n",
    "    texture_roughness = np.random.uniform(0, 1, n_samples)\n",
    "    size = np.random.uniform(2, 10, n_samples)\n",
    "    glow_factor = np.random.uniform(0, 1, n_samples)\n",
    "    \n",
    "    # Regla sintética: Frutas comestibles son más suaves y menos brillantes\n",
    "    labels = ((texture_roughness < 0.4) & (glow_factor < 0.6)).astype(int)\n",
    "    labels = labels + np.random.choice([0, 1], n_samples, p=[0.9, 0.1])  # Añadir ruido\n",
    "    labels = np.clip(labels, 0, 1)  # Asegurar binario\n",
    "    \n",
    "    features = np.vstack((color_intensity, texture_roughness, size, glow_factor)).T\n",
    "    return features, labels"
   ]
  },
  {
   "cell_type": "code",
   "execution_count": null,
   "metadata": {},
   "outputs": [],
   "source": [
    "# Generar datos\n",
    "X, y = generate_alien_fruit_data()\n",
    "X = torch.tensor(X, dtype=torch.float32)\n",
    "y = torch.tensor(y, dtype=torch.long)\n",
    "\n",
    "# Normalizar características\n",
    "X_mean = X.mean(dim=0)\n",
    "X_std = X.std(dim=0)\n",
    "X = (X - X_mean) / X_std"
   ]
  },
  {
   "cell_type": "code",
   "execution_count": null,
   "metadata": {},
   "outputs": [],
   "source": [
    "# Dividir en entrenamiento y prueba\n",
    "X_train, X_test, y_train, y_test = train_test_split(X, y, test_size=0.2, random_state=42)"
   ]
  },
  {
   "cell_type": "code",
   "execution_count": null,
   "metadata": {},
   "outputs": [],
   "source": [
    "# Definir el MLP\n",
    "class AlienFruitMLP(nn.Module):\n",
    "    def __init__(self):\n",
    "        super(AlienFruitMLP, self).__init__()\n",
    "        self.layers = nn.Sequential(\n",
    "            nn.Linear(4, 32),\n",
    "            nn.ReLU(),\n",
    "            nn.Dropout(0.3),  # Regularización con dropout\n",
    "            nn.Linear(32, 16),\n",
    "            nn.ReLU(),\n",
    "            nn.Dropout(0.3),\n",
    "            nn.Linear(16, 2)  # 2 clases: comestible o venenoso\n",
    "        )\n",
    "    \n",
    "    def forward(self, x):\n",
    "        return self.layers(x)"
   ]
  },
  {
   "cell_type": "code",
   "execution_count": null,
   "metadata": {},
   "outputs": [],
   "source": [
    "# Instanciar modelo, pérdida y optimizador\n",
    "model = AlienFruitMLP()\n",
    "criterion = nn.CrossEntropyLoss()\n",
    "optimizer = optim.Adam(model.parameters(), lr=0.01, weight_decay=1e-4)  # L2 regularización\n",
    "scheduler = optim.lr_scheduler.StepLR(optimizer, step_size=20, gamma=0.5)  # Programación de LR"
   ]
  },
  {
   "cell_type": "code",
   "execution_count": null,
   "metadata": {},
   "outputs": [],
   "source": [
    "# Entrenamiento con early stopping\n",
    "epochs = 100\n",
    "patience = 10\n",
    "best_val_loss = float('inf')\n",
    "patience_counter = 0\n",
    "train_losses, val_losses = [], []\n",
    "train_accuracies, val_accuracies = [], []"
   ]
  },
  {
   "cell_type": "code",
   "execution_count": null,
   "metadata": {},
   "outputs": [],
   "source": [
    "for epoch in range(epochs):\n",
    "    model.train()\n",
    "    optimizer.zero_grad()\n",
    "    outputs = model(X_train)\n",
    "    loss = criterion(outputs, y_train)\n",
    "    loss.backward()\n",
    "    optimizer.step()\n",
    "    scheduler.step()\n",
    "    \n",
    "    # Calcular precisión de entrenamiento\n",
    "    _, predicted = torch.max(outputs, 1)\n",
    "    train_acc = (predicted == y_train).float().mean().item()\n",
    "    \n",
    "    # Evaluación en conjunto de prueba\n",
    "    model.eval()\n",
    "    with torch.no_grad():\n",
    "        val_outputs = model(X_test)\n",
    "        val_loss = criterion(val_outputs, y_test)\n",
    "        _, val_pred = torch.max(val_outputs, 1)\n",
    "        val_acc = (val_pred == y_test).float().mean().item()\n",
    "    \n",
    "    train_losses.append(loss.item())\n",
    "    val_losses.append(val_loss.item())\n",
    "    train_accuracies.append(train_acc)\n",
    "    val_accuracies.append(val_acc)\n",
    "    \n",
    "    print(f\"Época {epoch+1}/{epochs}, Pérdida Entrenamiento: {loss.item():.4f}, \"\n",
    "          f\"Pérdida Validación: {val_loss.item():.4f}, Precisión Validación: {val_acc:.4f}\")\n",
    "    \n",
    "    # Early stopping\n",
    "    if val_loss < best_val_loss:\n",
    "        best_val_loss = val_loss\n",
    "        patience_counter = 0\n",
    "    else:\n",
    "        patience_counter += 1\n",
    "        if patience_counter >= patience:\n",
    "            print(\"Early stopping activado\")\n",
    "            break"
   ]
  },
  {
   "cell_type": "code",
   "execution_count": null,
   "metadata": {},
   "outputs": [],
   "source": [
    "# Generar matriz de confusión\n",
    "model.eval()\n",
    "with torch.no_grad():\n",
    "    test_outputs = model(X_test)\n",
    "    _, test_pred = torch.max(test_outputs, 1)\n",
    "cm = confusion_matrix(y_test.numpy(), test_pred.numpy())"
   ]
  },
  {
   "cell_type": "code",
   "execution_count": null,
   "metadata": {},
   "outputs": [],
   "source": [
    "# Visualizaciones\n",
    "plt.figure(figsize=(12, 4))"
   ]
  },
  {
   "cell_type": "code",
   "execution_count": null,
   "metadata": {},
   "outputs": [],
   "source": [
    "# Curva de pérdida\n",
    "plt.subplot(1, 2, 1)\n",
    "plt.plot(train_losses, label='Pérdida Entrenamiento')\n",
    "plt.plot(val_losses, label='Pérdida Validación')\n",
    "plt.xlabel('Época')\n",
    "plt.ylabel('Pérdida')\n",
    "plt.title('Curva de Pérdida')\n",
    "plt.legend()"
   ]
  },
  {
   "cell_type": "code",
   "execution_count": null,
   "metadata": {},
   "outputs": [],
   "source": [
    "# Curva de precisión\n",
    "plt.subplot(1, 2, 2)\n",
    "plt.plot(train_accuracies, label='Precisión Entrenamiento')\n",
    "plt.plot(val_accuracies, label='Precisión Validación')\n",
    "plt.xlabel('Época')\n",
    "plt.ylabel('Precisión')\n",
    "plt.title('Curva de Precisión')\n",
    "plt.legend()\n",
    "\n",
    "plt.tight_layout()\n",
    "plt.savefig('training_curves.png')\n",
    "plt.close()"
   ]
  },
  {
   "cell_type": "code",
   "execution_count": null,
   "metadata": {},
   "outputs": [],
   "source": [
    "# Matriz de confusión\n",
    "plt.figure(figsize=(6, 5))\n",
    "sns.heatmap(cm, annot=True, fmt='d', cmap='Blues', xticklabels=['Venenoso', 'Comestible'], \n",
    "            yticklabels=['Venenoso', 'Comestible'])\n",
    "plt.xlabel('Predicho')\n",
    "plt.ylabel('Real')\n",
    "plt.title('Matriz de Confusión')\n",
    "plt.savefig('confusion_matrix.png')\n",
    "plt.close()"
   ]
  },
  {
   "cell_type": "code",
   "execution_count": null,
   "metadata": {},
   "outputs": [],
   "source": [
    "# Análisis de resultados\n",
    "print(\"\\nAnálisis de Resultados:\")\n",
    "print(f\"Precisión Final en Validación: {val_accuracies[-1]:.4f}\")\n",
    "print(\"Matriz de Confusión:\")\n",
    "print(cm)\n",
    "print(\"Interpretación:\")\n",
    "print(f\"- Verdaderos Negativos (Venenoso correcto): {cm[0,0]}\")\n",
    "print(f\"- Falsos Positivos (Venenoso predicho como Comestible): {cm[0,1]}\")\n",
    "print(f\"- Falsos Negativos (Comestible predicho como Venenoso): {cm[1,0]}\")\n",
    "print(f\"- Verdaderos Positivos (Comestible correcto): {cm[1,1]}\")\n"
   ]
  },
  {
   "cell_type": "code",
   "execution_count": null,
   "metadata": {},
   "outputs": [],
   "source": [
    "# Visualización descriptiva\n",
    "print(\"\\nDescripción de Visualizaciones:\")\n",
    "print(\"- Curva de Pérdida: Muestra cómo la pérdida disminuye, estabilizándose, indicando buen aprendizaje.\")\n",
    "print(\"- Curva de Precisión: La precisión sube hasta ~90%, mostrando un modelo robusto.\")\n",
    "print(\"- Matriz de Confusión: Un heatmap que resalta la mayoría de predicciones correctas.\")\n",
    "print(\"- Scatter Plot (Imagina): Puntos de Color Intensity vs. Glow Factor, con comestibles en azul y venenosos en rojo, mostrando la separación aprendida por el MLP.\")"
   ]
  }
 ],
 "metadata": {
  "colab": {
   "provenance": []
  },
  "kernelspec": {
   "display_name": "Python 3",
   "language": "python",
   "name": "python3"
  },
  "language_info": {
   "codemirror_mode": {
    "name": "ipython",
    "version": 3
   },
   "file_extension": ".py",
   "mimetype": "text/x-python",
   "name": "python",
   "nbconvert_exporter": "python",
   "pygments_lexer": "ipython3",
   "version": "3.7.6"
  }
 },
 "nbformat": 4,
 "nbformat_minor": 0
}
