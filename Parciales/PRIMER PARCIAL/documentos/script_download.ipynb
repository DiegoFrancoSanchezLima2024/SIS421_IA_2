{
 "cells": [
  {
   "cell_type": "markdown",
   "id": "c6cd09b8",
   "metadata": {},
   "source": [
    "# descarga de lista de todas las mesas nacionales e internacionales, y guardar en json's"
   ]
  },
  {
   "cell_type": "markdown",
   "id": "6916e546",
   "metadata": {},
   "source": [
    "en esta seccion se descarga los jsons que nos servira para descargar todas las actas nacionales y extranjeras"
   ]
  },
  {
   "cell_type": "code",
   "execution_count": 1,
   "id": "6288eb94",
   "metadata": {},
   "outputs": [
    {
     "name": "stdout",
     "output_type": "stream",
     "text": [
      "Archivo geografiaNacional.json descargado y guardado correctamente.\n",
      "Archivo geografiaExtranjero.json descargado y guardado correctamente.\n"
     ]
    }
   ],
   "source": [
    "# descargar datos de url y guardar el json\n",
    "import requests\n",
    "import json\n",
    "import os\n",
    "\n",
    "base_url = \"https://computo.oep.org.bo/\"\n",
    "\n",
    "\n",
    "nacional_response = requests.get(base_url + \"geografiaNacional.json\")\n",
    "internacional_response = requests.get(base_url + \"geografiaExtranjero.json\")\n",
    "\n",
    "# descargar el archivo geografiaNacional.json\n",
    "if nacional_response.status_code == 200:\n",
    "    with open(\"geografiaNacional.json\", \"w\", encoding=\"utf-8\") as nacional_file:\n",
    "        json.dump(nacional_response.json(), nacional_file, ensure_ascii=False, indent=2)\n",
    "        print(\"Archivo geografiaNacional.json descargado y guardado correctamente.\")\n",
    "else:\n",
    "    print(f\"Error al descargar geografiaNacional.json: {nacional_response.status_code}\")\n",
    "\n",
    "# Guardar el archivo geografiaExtranjero.json\n",
    "if internacional_response.status_code == 200:\n",
    "    with open(\"geografiaExtranjera.json\", \"w\", encoding=\"utf-8\") as internacional_file:\n",
    "        json.dump(internacional_response.json(), internacional_file, ensure_ascii=False, indent=2)\n",
    "        print(\"Archivo geografiaExtranjero.json descargado y guardado correctamente.\")\n",
    "else:\n",
    "    print(f\"Error al descargar geografiaExtranjera.json: {internacional_response.status_code}\")"
   ]
  },
  {
   "cell_type": "markdown",
   "id": "a4509e01",
   "metadata": {},
   "source": [
    "descargamos la libreria tqdm para tener el proceso"
   ]
  },
  {
   "cell_type": "code",
   "execution_count": 2,
   "id": "f541f525",
   "metadata": {},
   "outputs": [
    {
     "name": "stdout",
     "output_type": "stream",
     "text": [
      "Defaulting to user installation because normal site-packages is not writeable\n",
      "Requirement already satisfied: tqdm in c:\\programdata\\anaconda3\\lib\\site-packages (4.66.5)\n",
      "Requirement already satisfied: colorama in c:\\programdata\\anaconda3\\lib\\site-packages (from tqdm) (0.4.6)\n"
     ]
    }
   ],
   "source": [
    "!pip install tqdm"
   ]
  },
  {
   "cell_type": "markdown",
   "id": "c5476d18",
   "metadata": {},
   "source": [
    "aqui creamos la descarga de las actas nacionales en 8 hilos, 8 imagens de actas a la vez, depende de tu red el timepo que tardara"
   ]
  },
  {
   "cell_type": "code",
   "execution_count": 3,
   "id": "3475f1fb",
   "metadata": {},
   "outputs": [
    {
     "name": "stdout",
     "output_type": "stream",
     "text": [
      "Se procesarán 1000 mesas (máximo 1000)\n"
     ]
    },
    {
     "name": "stderr",
     "output_type": "stream",
     "text": [
      "Descargando actas: 100%|██████████| 1000/1000 [08:23<00:00,  1.99it/s]"
     ]
    },
    {
     "name": "stdout",
     "output_type": "stream",
     "text": [
      "Descarga finalizada ✅\n",
      "Las actas se encuentran en la carpeta: ACTAS_1000\n",
      "Archivos numerados desde acta_0001.jpg hasta acta_1000.jpg\n"
     ]
    },
    {
     "name": "stderr",
     "output_type": "stream",
     "text": [
      "\n"
     ]
    }
   ],
   "source": [
    "import json\n",
    "import os\n",
    "import requests\n",
    "import base64\n",
    "import time\n",
    "import csv\n",
    "import random\n",
    "from concurrent.futures import ThreadPoolExecutor, as_completed\n",
    "from tqdm import tqdm\n",
    "\n",
    "# Configuración\n",
    "JSON_FILE = \"geografiaNacional.json\"\n",
    "BASE_DIR = \"ACTAS_1000\"  # Carpeta única para todas las actas\n",
    "LOG_FILE = \"descargas_1000.csv\"\n",
    "URL = \"https://computo.oep.org.bo/api/v1/resultados/mesa\"\n",
    "MAX_THREADS = 8         # hilos paralelos\n",
    "MIN_DELAY = 0.3         # pausa mínima entre descargas\n",
    "MAX_DELAY = 0.7         # pausa máxima entre descargas\n",
    "MAX_ACTAS = 1000        # Límite de 1000 actas\n",
    "\n",
    "# Cargar JSON\n",
    "with open(JSON_FILE, \"r\", encoding=\"utf-8\") as f:\n",
    "    data = json.load(f)\n",
    "\n",
    "# Crear carpeta única\n",
    "os.makedirs(BASE_DIR, exist_ok=True)\n",
    "\n",
    "# Función para descargar una mesa individual con numeración\n",
    "def descargar_mesa(mesa_id, mesa_num, numero_secuencial):\n",
    "    mesa_file = os.path.join(BASE_DIR, f\"acta_{numero_secuencial:04d}.jpg\")\n",
    "    \n",
    "    if os.path.exists(mesa_file):\n",
    "        return numero_secuencial, mesa_id, mesa_file, \"Ya descargado\"\n",
    "    \n",
    "    try:\n",
    "        resp = requests.post(URL, json={\"codigoMesa\": mesa_id}, timeout=15)\n",
    "        if resp.status_code == 200:\n",
    "            data_resp = resp.json()\n",
    "            estado = \"Sin ACTA\"\n",
    "            for adj in data_resp.get(\"adjunto\", []):\n",
    "                if adj[\"tipo\"] == \"ACTA\" and adj[\"valor\"] != \"false\":\n",
    "                    img_data = base64.b64decode(adj[\"valor\"])\n",
    "                    with open(mesa_file, \"wb\") as f:\n",
    "                        f.write(img_data)\n",
    "                    del img_data\n",
    "                    estado = \"OK\"\n",
    "                    break\n",
    "            return numero_secuencial, mesa_id, mesa_file, estado\n",
    "        else:\n",
    "            return numero_secuencial, mesa_id, \"\", f\"Error HTTP {resp.status_code}\"\n",
    "    except Exception as e:\n",
    "        return numero_secuencial, mesa_id, \"\", f\"Error {e}\"\n",
    "\n",
    "# Preparar lista de tareas (limitado a 1000)\n",
    "tareas = []\n",
    "contador = 0\n",
    "\n",
    "for pais in data:\n",
    "    if contador >= MAX_ACTAS:\n",
    "        break\n",
    "    for dep in pais.get(\"d\", []):\n",
    "        if contador >= MAX_ACTAS:\n",
    "            break\n",
    "        for prov in dep.get(\"p\", []):\n",
    "            if contador >= MAX_ACTAS:\n",
    "                break\n",
    "            for mun in prov.get(\"m\", []):\n",
    "                if contador >= MAX_ACTAS:\n",
    "                    break\n",
    "                for loc in mun.get(\"l\", []):\n",
    "                    if contador >= MAX_ACTAS:\n",
    "                        break\n",
    "                    for rec in loc.get(\"r\", []):\n",
    "                        if contador >= MAX_ACTAS:\n",
    "                            break\n",
    "                        for mesa in rec.get(\"t\", []):\n",
    "                            if contador >= MAX_ACTAS:\n",
    "                                break\n",
    "                            contador += 1\n",
    "                            tareas.append((mesa[\"i\"], mesa[\"n\"], contador))\n",
    "\n",
    "print(f\"Se procesarán {len(tareas)} mesas (máximo {MAX_ACTAS})\")\n",
    "\n",
    "# Ejecutar descargas paralelas\n",
    "with ThreadPoolExecutor(max_workers=MAX_THREADS) as executor, \\\n",
    "     open(LOG_FILE, \"w\", newline=\"\", encoding=\"utf-8\") as log:\n",
    "\n",
    "    writer = csv.writer(log)\n",
    "    writer.writerow([\"Numero_Secuencial\", \"Mesa_ID\", \"Ruta\", \"Estado\"])\n",
    "\n",
    "    futures = {executor.submit(descargar_mesa, tid, tnum, tseq): (tseq, tid) for tid, tnum, tseq in tareas}\n",
    "\n",
    "    with tqdm(total=len(tareas), desc=\"Descargando actas\") as pbar:\n",
    "        for fut in as_completed(futures):\n",
    "            numero_secuencial, mesa_id, mesa_file, estado = fut.result()\n",
    "            writer.writerow([numero_secuencial, mesa_id, mesa_file, estado])\n",
    "            # Pausa aleatoria pequeña para proteger servidor\n",
    "            time.sleep(random.uniform(MIN_DELAY, MAX_DELAY))\n",
    "            pbar.update(1)\n",
    "\n",
    "print(\"Descarga finalizada ✅\")\n",
    "print(f\"Las actas se encuentran en la carpeta: {BASE_DIR}\")\n",
    "print(f\"Archivos numerados desde acta_0001.jpg hasta acta_{len(tareas):04d}.jpg\")"
   ]
  },
  {
   "cell_type": "markdown",
   "id": "6d1d82d3",
   "metadata": {},
   "source": [
    "actas internacionales, igual en 8 hilos concurrentes"
   ]
  },
  {
   "cell_type": "code",
   "execution_count": 4,
   "id": "8c2b6128",
   "metadata": {},
   "outputs": [
    {
     "name": "stdout",
     "output_type": "stream",
     "text": [
      "Se procesarán 1000 mesas extranjeras (máximo 1000)\n"
     ]
    },
    {
     "name": "stderr",
     "output_type": "stream",
     "text": [
      "Descargando actas extranjeras: 100%|██████████| 1000/1000 [08:23<00:00,  1.99it/s]"
     ]
    },
    {
     "name": "stdout",
     "output_type": "stream",
     "text": [
      "Descarga finalizada ✅\n",
      "Las actas extranjeras se encuentran en la carpeta: ACTAS_EXTRANJERAS_1000\n",
      "Archivos numerados desde acta_extranjera_0001.jpg hasta acta_extranjera_1000.jpg\n"
     ]
    },
    {
     "name": "stderr",
     "output_type": "stream",
     "text": [
      "\n"
     ]
    }
   ],
   "source": [
    "import json\n",
    "import os\n",
    "import requests\n",
    "import base64\n",
    "import time\n",
    "import csv\n",
    "import random\n",
    "from concurrent.futures import ThreadPoolExecutor, as_completed\n",
    "from tqdm import tqdm\n",
    "\n",
    "# Configuración\n",
    "JSON_FILE = \"geografiaExtranjera.json\"\n",
    "BASE_DIR = \"ACTAS_EXTRANJERAS_1000\"  # Carpeta única para todas las actas extranjeras\n",
    "LOG_FILE = \"descargas_extranjeras_1000.csv\"\n",
    "URL = \"https://computo.oep.org.bo/api/v1/resultados/mesa\"\n",
    "MAX_THREADS = 8         # hilos paralelos\n",
    "MIN_DELAY = 0.3         # pausa mínima entre descargas\n",
    "MAX_DELAY = 0.7         # pausa máxima entre descargas\n",
    "MAX_ACTAS = 1000        # Límite de 1000 actas\n",
    "\n",
    "# Cargar JSON\n",
    "with open(JSON_FILE, \"r\", encoding=\"utf-8\") as f:\n",
    "    data = json.load(f)\n",
    "\n",
    "# Crear carpeta única\n",
    "os.makedirs(BASE_DIR, exist_ok=True)\n",
    "\n",
    "# Función para descargar una mesa individual con numeración\n",
    "def descargar_mesa(mesa_id, mesa_num, numero_secuencial):\n",
    "    mesa_file = os.path.join(BASE_DIR, f\"acta_extranjera_{numero_secuencial:04d}.jpg\")\n",
    "    \n",
    "    if os.path.exists(mesa_file):\n",
    "        return numero_secuencial, mesa_id, mesa_file, \"Ya descargado\"\n",
    "    \n",
    "    try:\n",
    "        resp = requests.post(URL, json={\"codigoMesa\": mesa_id}, timeout=15)\n",
    "        if resp.status_code == 200:\n",
    "            data_resp = resp.json()\n",
    "            estado = \"Sin ACTA\"\n",
    "            for adj in data_resp.get(\"adjunto\", []):\n",
    "                if adj[\"tipo\"] == \"ACTA\" and adj[\"valor\"] != \"false\":\n",
    "                    img_data = base64.b64decode(adj[\"valor\"])\n",
    "                    with open(mesa_file, \"wb\") as f:\n",
    "                        f.write(img_data)\n",
    "                    del img_data\n",
    "                    estado = \"OK\"\n",
    "                    break\n",
    "            return numero_secuencial, mesa_id, mesa_file, estado\n",
    "        else:\n",
    "            return numero_secuencial, mesa_id, \"\", f\"Error HTTP {resp.status_code}\"\n",
    "    except Exception as e:\n",
    "        return numero_secuencial, mesa_id, \"\", f\"Error {e}\"\n",
    "\n",
    "# Preparar lista de tareas (limitado a 1000)\n",
    "tareas = []\n",
    "contador = 0\n",
    "\n",
    "for pais in data:\n",
    "    if contador >= MAX_ACTAS:\n",
    "        break\n",
    "    for ciudad in pais.get(\"c\", []):\n",
    "        if contador >= MAX_ACTAS:\n",
    "            break\n",
    "        for recinto in ciudad.get(\"r\", []):\n",
    "            if contador >= MAX_ACTAS:\n",
    "                break\n",
    "            for mesa in recinto.get(\"t\", []):\n",
    "                if contador >= MAX_ACTAS:\n",
    "                    break\n",
    "                contador += 1\n",
    "                tareas.append((mesa[\"i\"], mesa[\"n\"], contador))\n",
    "\n",
    "print(f\"Se procesarán {len(tareas)} mesas extranjeras (máximo {MAX_ACTAS})\")\n",
    "\n",
    "# Ejecutar descargas paralelas\n",
    "with ThreadPoolExecutor(max_workers=MAX_THREADS) as executor, \\\n",
    "     open(LOG_FILE, \"w\", newline=\"\", encoding=\"utf-8\") as log:\n",
    "\n",
    "    writer = csv.writer(log)\n",
    "    writer.writerow([\"Numero_Secuencial\", \"Mesa_ID\", \"Ruta\", \"Estado\"])\n",
    "\n",
    "    futures = {executor.submit(descargar_mesa, tid, tnum, tseq): (tseq, tid) for tid, tnum, tseq in tareas}\n",
    "\n",
    "    with tqdm(total=len(tareas), desc=\"Descargando actas extranjeras\") as pbar:\n",
    "        for fut in as_completed(futures):\n",
    "            numero_secuencial, mesa_id, mesa_file, estado = fut.result()\n",
    "            writer.writerow([numero_secuencial, mesa_id, mesa_file, estado])\n",
    "            # Pausa aleatoria pequeña para proteger servidor\n",
    "            time.sleep(random.uniform(MIN_DELAY, MAX_DELAY))\n",
    "            pbar.update(1)\n",
    "\n",
    "print(\"Descarga finalizada ✅\")\n",
    "print(f\"Las actas extranjeras se encuentran en la carpeta: {BASE_DIR}\")\n",
    "print(f\"Archivos numerados desde acta_extranjera_0001.jpg hasta acta_extranjera_{len(tareas):04d}.jpg\")"
   ]
  }
 ],
 "metadata": {
  "kernelspec": {
   "display_name": "base",
   "language": "python",
   "name": "python3"
  },
  "language_info": {
   "codemirror_mode": {
    "name": "ipython",
    "version": 3
   },
   "file_extension": ".py",
   "mimetype": "text/x-python",
   "name": "python",
   "nbconvert_exporter": "python",
   "pygments_lexer": "ipython3",
   "version": "3.12.7"
  }
 },
 "nbformat": 4,
 "nbformat_minor": 5
}
